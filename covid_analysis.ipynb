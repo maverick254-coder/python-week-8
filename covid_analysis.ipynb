{
 "cells": [
  {
   "cell_type": "markdown",
   "id": "6a2987fa",
   "metadata": {},
   "source": [
    "# COVID-19 Data Analysis for Kenya, India, and USA\n",
    "\n",
    "This notebook analyzes COVID-19 data for Kenya, India, and the United States, focusing on total cases, daily new cases, vaccination progress, and a geographical representation of total cases.\n",
    "\n",
    "**Data Source:** OWID (Our World in Data) COVID-19 dataset."
   ]
  },
  {
   "cell_type": "code",
   "execution_count": null,
   "id": "68ff8baf",
   "metadata": {},
   "outputs": [],
   "source": [
    "import pandas as pd\n",
    "import matplotlib.pyplot as plt\n",
    "import seaborn as sns # Seaborn is imported but not explicitly used in the provided script, can be removed if not needed later.\n",
    "import plotly.express as px"
   ]
  },
  {
   "cell_type": "markdown",
   "id": "2cc113af",
   "metadata": {},
   "source": [
    "## 1. Load and Inspect Data\n",
    "\n",
    "Load the dataset and perform an initial inspection to understand its structure and contents."
   ]
  },
  {
   "cell_type": "code",
   "execution_count": null,
   "id": "1fdff7e2",
   "metadata": {},
   "outputs": [],
   "source": [
    "# Load the data\n",
    "df = pd.read_csv(\"owid-covid-data.csv\")\n",
    "\n",
    "# Preview the data columns\n",
    "print(\"Columns in dataset:\", df.columns.tolist()) # .tolist() for better readability\n",
    "\n",
    "# Display the first few rows\n",
    "print(\"\\nFirst few rows of the dataset:\")\n",
    "df.head() # In Jupyter, df.head() will display a nice HTML table"
   ]
  },
  {
   "cell_type": "markdown",
   "id": "1105a729",
   "metadata": {},
   "source": [
    "## 2. Data Preprocessing\n",
    "\n",
    "Filter the data for the countries of interest, convert data types, and handle missing values."
   ]
  },
  {
   "cell_type": "code",
   "execution_count": null,
   "id": "57a6f677",
   "metadata": {},
   "outputs": [],
   "source": [
    "# Filter for specific countries\n",
    "countries_of_interest = ['Kenya', 'India', 'United States']\n",
    "df_filtered = df[df['location'].isin(countries_of_interest)].copy() # Use .copy() to avoid SettingWithCopyWarning\n",
    "\n",
    "# Convert date column to datetime\n",
    "df_filtered['date'] = pd.to_datetime(df_filtered['date'])\n",
    "\n",
    "# Display data types after conversion\n",
    "print(\"Data types after date conversion:\")\n",
    "df_filtered.info()\n",
    "\n",
    "# Drop rows with missing critical values for time series plotting\n",
    "# For plots like total cases, deaths, vaccinations, we need these to be present.\n",
    "critical_columns = ['total_cases', 'total_deaths', 'total_vaccinations']\n",
    "df_processed = df_filtered.dropna(subset=critical_columns).copy()\n",
    "\n",
    "# Fill remaining missing values (e.g., new_cases might still have NaNs if not dropped above)\n",
    "# A common strategy is to fill with 0, but this depends on the specific column's meaning.\n",
    "df_processed.fillna(0, inplace=True)\n",
    "\n",
    "print(f\"\\nShape of processed data: {df_processed.shape}\")\n",
    "print(\"\\nMissing values after processing:\")\n",
    "print(df_processed.isnull().sum())\n",
    "\n",
    "print(\"\\nFirst few rows of processed data:\")\n",
    "df_processed.head()"
   ]
  },
  {
   "cell_type": "markdown",
   "id": "c9983add",
   "metadata": {},
   "source": [
    "## 3. Visualizations\n",
    "\n",
    "Create visualizations to explore trends in COVID-19 cases and vaccinations."
   ]
  },
  {
   "cell_type": "markdown",
   "id": "e2ec6100",
   "metadata": {},
   "source": [
    "### 3.1. Total Cases Over Time"
   ]
  },
  {
   "cell_type": "code",
   "execution_count": null,
   "id": "2f23154d",
   "metadata": {},
   "outputs": [],
   "source": [
    "plt.figure(figsize=(12, 6))\n",
    "for country in countries_of_interest:\n",
    "    country_data = df_processed[df_processed['location'] == country]\n",
    "    plt.plot(country_data['date'], country_data['total_cases'], label=country)\n",
    "plt.title('Total COVID-19 Cases Over Time')\n",
    "plt.xlabel('Date')\n",
    "plt.ylabel('Total Cases (Log Scale)') # Consider if log scale is appropriate or specify if not\n",
    "plt.yscale('log') # Using log scale as cases grow exponentially, makes comparison easier\n",
    "plt.legend()\n",
    "plt.grid(True, which=\"both\", ls=\"-\") # Added 'which' and 'ls' for better grid\n",
    "plt.tight_layout()\n",
    "# plt.savefig('total_cases_over_time.png') # Keep if you also want to save the file\n",
    "plt.show() # Ensures the plot is displayed in the notebook"
   ]
  },
  {
   "cell_type": "markdown",
   "id": "1663a18c",
   "metadata": {},
   "source": [
    "### 3.2. Daily New Cases"
   ]
  },
  {
   "cell_type": "code",
   "execution_count": null,
   "id": "c0a4375b",
   "metadata": {},
   "outputs": [],
   "source": [
    "plt.figure(figsize=(12, 6))\n",
    "for country in countries_of_interest:\n",
    "    country_data = df_processed[df_processed['location'] == country]\n",
    "    # Calculate rolling average for smoother trend if data is noisy\n",
    "    country_data['new_cases_smoothed'] = country_data['new_cases'].rolling(window=7).mean()\n",
    "    plt.plot(country_data['date'], country_data['new_cases_smoothed'], label=f'{country} (7-day avg)')\n",
    "    # plt.plot(country_data['date'], country_data['new_cases'], label=country, alpha=0.5) # Optional: plot raw data too\n",
    "plt.title('Daily New COVID-19 Cases (7-Day Rolling Average)')\n",
    "plt.xlabel('Date')\n",
    "plt.ylabel('New Cases')\n",
    "plt.legend()\n",
    "plt.grid(True)\n",
    "plt.tight_layout()\n",
    "# plt.savefig('daily_new_cases.png')\n",
    "plt.show()"
   ]
  },
  {
   "cell_type": "markdown",
   "id": "28906ed3",
   "metadata": {},
   "source": [
    "### 3.3. Vaccination Progress"
   ]
  },
  {
   "cell_type": "code",
   "execution_count": null,
   "id": "5545cccf",
   "metadata": {},
   "outputs": [],
   "source": [
    "plt.figure(figsize=(12, 6))\n",
    "for country in countries_of_interest:\n",
    "    country_data = df_processed[df_processed['location'] == country]\n",
    "    plt.plot(country_data['date'], country_data['total_vaccinations'], label=country)\n",
    "plt.title('Vaccination Progress Over Time')\n",
    "plt.xlabel('Date')\n",
    "plt.ylabel('Total Vaccinations (Log Scale)') # Consider log scale\n",
    "plt.yscale('log') # Using log scale\n",
    "plt.legend()\n",
    "plt.grid(True, which=\"both\", ls=\"-\")\n",
    "plt.tight_layout()\n",
    "# plt.savefig('vaccination_progress.png')\n",
    "plt.show()"
   ]
  },
  {
   "cell_type": "markdown",
   "id": "11e71327",
   "metadata": {},
   "source": [
    "## 4. Further Analysis: Death Rate and Choropleth Map"
   ]
  },
  {
   "cell_type": "markdown",
   "id": "8a872615",
   "metadata": {},
   "source": [
    "### 4.1. Calculate Death Rate\n",
    "\n",
    "Calculate the death rate (total deaths / total cases). Note: This is a crude Case Fatality Rate and has many epidemiological caveats."
   ]
  },
  {
   "cell_type": "code",
   "execution_count": null,
   "id": "1702ac18",
   "metadata": {},
   "outputs": [],
   "source": [
    "# Ensure total_cases is not zero to avoid division by zero\n",
    "df_processed['death_rate'] = 0.0 # Initialize\n",
    "df_processed.loc[df_processed['total_cases'] > 0, 'death_rate'] = df_processed['total_deaths'] / df_processed['total_cases']\n",
    "\n",
    "# Display death rate for the latest date for each country\n",
    "latest_death_rates = df_processed.sort_values('date').groupby('location').last()[['date', 'death_rate']]\n",
    "print(\"Latest calculated death rates:\")\n",
    "latest_death_rates"
   ]
  },
  {
   "cell_type": "markdown",
   "id": "39dc5d9b",
   "metadata": {},
   "source": [
    "### 4.2. Choropleth Map of Total Cases\n",
    "\n",
    "Visualize the latest total cases by country using a choropleth map.\n",
    "This map will use the full dataset to show global context before filtering.\n",
    "We will use the original `df` for this, as `df_processed` is filtered to specific countries and has NaN handling that might not be ideal for a global map."
   ]
  },
  {
   "cell_type": "code",
   "execution_count": null,
   "id": "e4174b3f",
   "metadata": {},
   "outputs": [],
   "source": [
    "# Use the original dataframe 'df' for a global map perspective\n",
    "# Convert date to datetime if not already done on original df for sorting\n",
    "df_map_data = df.copy() # Work on a copy\n",
    "df_map_data['date'] = pd.to_datetime(df_map_data['date'])\n",
    "\n",
    "# Get the latest data for each country from the original dataframe\n",
    "latest_df_global = df_map_data.sort_values(\"date\").groupby(\"location\").last().reset_index()\n",
    "\n",
    "# Filter out entries that don't have an iso_code (e.g., continents, income groups)\n",
    "latest_df_global = latest_df_global[latest_df_global['iso_code'].notna()]\n",
    "# Ensure total_cases is numeric and fill NaNs if any for plotting\n",
    "latest_df_global['total_cases'] = pd.to_numeric(latest_df_global['total_cases'], errors='coerce').fillna(0)\n",
    "\n",
    "\n",
    "fig = px.choropleth(\n",
    "    latest_df_global,\n",
    "    locations=\"iso_code\",\n",
    "    color=\"total_cases\",\n",
    "    hover_name=\"location\",\n",
    "    hover_data={'iso_code': False, 'total_cases': ':,', 'total_deaths': ':,'}, # Custom hover data\n",
    "    color_continuous_scale=px.colors.sequential.Reds, # Or \"Reds\", \"YlOrRd\"\n",
    "    title=\"Latest Total COVID-19 Cases by Country (Log Scale Color)\"\n",
    "    # Using log scale for color can make variations more visible if numbers vary wildly\n",
    "    # color_continuous_scale can also accept custom scales or log color: color='log(total_cases)'\n",
    "    # However, Plotly handles log color better if data has zeros using a 'log' type color axis\n",
    ")\n",
    "fig.update_layout(coloraxis_colorbar=dict(title=\"Total Cases\"))\n",
    "# fig.write_html(\"choropleth_map_global.html\") # Keep if you want to save the file\n",
    "fig.show()"
   ]
  },
  {
   "cell_type": "markdown",
   "id": "3675c328",
   "metadata": {},
   "source": [
    "## 5. Conclusion"
   ]
  },
  {
   "cell_type": "code",
   "execution_count": null,
   "id": "b120090c",
   "metadata": {},
   "outputs": [],
   "source": [
    "print(\"Analysis completed. Visuals are displayed inline above.\")\n",
    "print(\"If `savefig` or `write_html` lines were uncommented, files are also saved.\")"
   ]
  }
 ],
 "metadata": {
  "kernelspec": {
   "display_name": "Python 3",
   "language": "python",
   "name": "python3"
  },
  "language_info": {
   "codemirror_mode": {
    "name": "ipython",
    "version": 3
   },
   "file_extension": ".py",
   "mimetype": "text/x-python",
   "name": "python",
   "nbconvert_exporter": "python",
   "pygments_lexer": "ipython3",
   "version": "3.13.2"
  }
 },
 "nbformat": 4,
 "nbformat_minor": 5
}
